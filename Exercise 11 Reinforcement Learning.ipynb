{
 "cells": [
  {
   "cell_type": "markdown",
   "metadata": {},
   "source": [
    "# Reinforcement Learning"
   ]
  },
  {
   "cell_type": "markdown",
   "metadata": {},
   "source": [
    "## The Game \n",
    "What is a state and what is an action?"
   ]
  },
  {
   "cell_type": "code",
   "execution_count": 9,
   "metadata": {
    "ExecuteTime": {
     "end_time": "2021-07-13T05:03:45.945099Z",
     "start_time": "2021-07-13T05:03:30.751448Z"
    }
   },
   "outputs": [
    {
     "name": "stdout",
     "output_type": "stream",
     "text": [
      "+---------+\n",
      "|R: | : :\u001b[35mG\u001b[0m|\n",
      "| : | : : |\n",
      "| : : : : |\n",
      "| | : | : |\n",
      "|Y| : |\u001b[42mB\u001b[0m: |\n",
      "+---------+\n",
      "  (South)\n",
      "-93\n",
      "477\n",
      "Discrete(6)\n",
      "Discrete(500)\n"
     ]
    }
   ],
   "source": [
    "import gym\n",
    "from IPython.display import clear_output\n",
    "import time\n",
    "\n",
    "env=gym.make('Taxi-v3')\n",
    "env.reset()\n",
    "score = 0\n",
    "for _ in range(30):\n",
    "    env.render()\n",
    "    action = env.action_space.sample()\n",
    "    print(action)\n",
    "    observation, reward, done, info = env.step(action) # take a random action    \n",
    "    score += reward\n",
    "    print(score, reward)\n",
    "    print(observation, reward, done, info)\n",
    "    time.sleep(0.5)\n",
    "    clear_output(True)\n",
    "env.render()\n",
    "print(score)\n",
    "env.close()\n",
    "print(env.env.s) # how to get current state\n",
    "print(env.action_space)\n",
    "print(env.observation_space)\n",
    "#env.reward"
   ]
  },
  {
   "cell_type": "markdown",
   "metadata": {},
   "source": [
    "## QTable? \n",
    "\n",
    "### What does each element represent?"
   ]
  },
  {
   "cell_type": "code",
   "execution_count": null,
   "metadata": {},
   "outputs": [],
   "source": []
  },
  {
   "cell_type": "markdown",
   "metadata": {},
   "source": [
    "### What is the dimension of QTable?"
   ]
  },
  {
   "cell_type": "code",
   "execution_count": null,
   "metadata": {},
   "outputs": [],
   "source": []
  },
  {
   "cell_type": "markdown",
   "metadata": {
    "ExecuteTime": {
     "end_time": "2020-07-12T19:06:37.798725Z",
     "start_time": "2020-07-12T19:06:37.795333Z"
    }
   },
   "source": [
    "### If we are at state $s$ how do we pick the next best action"
   ]
  },
  {
   "cell_type": "code",
   "execution_count": null,
   "metadata": {},
   "outputs": [],
   "source": []
  },
  {
   "cell_type": "markdown",
   "metadata": {},
   "source": [
    "Closing Note: QTable doesn't really have to be a table. You can think about it as a parametrized function. The discrete one is much easier to implement."
   ]
  },
  {
   "cell_type": "markdown",
   "metadata": {},
   "source": [
    "## Q Learning"
   ]
  },
  {
   "cell_type": "markdown",
   "metadata": {
    "ExecuteTime": {
     "end_time": "2020-07-12T19:16:30.523802Z",
     "start_time": "2020-07-12T19:16:30.521800Z"
    }
   },
   "source": [
    "### Write down the update rule"
   ]
  },
  {
   "cell_type": "code",
   "execution_count": null,
   "metadata": {},
   "outputs": [],
   "source": []
  },
  {
   "cell_type": "markdown",
   "metadata": {},
   "source": [
    "### What is $\\alpha$?\n",
    "What happen when alpha is 1 and what happen when alpha is 0?"
   ]
  },
  {
   "cell_type": "code",
   "execution_count": null,
   "metadata": {},
   "outputs": [],
   "source": []
  },
  {
   "cell_type": "markdown",
   "metadata": {},
   "source": [
    "### What is gamma?"
   ]
  },
  {
   "cell_type": "code",
   "execution_count": null,
   "metadata": {},
   "outputs": [],
   "source": []
  },
  {
   "cell_type": "markdown",
   "metadata": {},
   "source": [
    "### What value does the update rule converge to?"
   ]
  },
  {
   "cell_type": "code",
   "execution_count": null,
   "metadata": {},
   "outputs": [],
   "source": []
  },
  {
   "cell_type": "markdown",
   "metadata": {},
   "source": [
    "### When learning do we always want to use the best action?"
   ]
  },
  {
   "cell_type": "code",
   "execution_count": null,
   "metadata": {},
   "outputs": [],
   "source": []
  },
  {
   "cell_type": "markdown",
   "metadata": {
    "ExecuteTime": {
     "end_time": "2020-07-12T19:38:01.150021Z",
     "start_time": "2020-07-12T19:38:01.145507Z"
    }
   },
   "source": [
    "### What is $\\epsilon$?"
   ]
  },
  {
   "cell_type": "code",
   "execution_count": null,
   "metadata": {},
   "outputs": [],
   "source": []
  },
  {
   "cell_type": "markdown",
   "metadata": {},
   "source": [
    "### When we evaluate the QTable do we want to always use the best action?"
   ]
  },
  {
   "cell_type": "code",
   "execution_count": 6,
   "metadata": {
    "ExecuteTime": {
     "end_time": "2021-07-13T04:56:12.108679Z",
     "start_time": "2021-07-13T04:56:12.103999Z"
    }
   },
   "outputs": [
    {
     "name": "stdout",
     "output_type": "stream",
     "text": [
      "6\n",
      "Discrete(500)\n"
     ]
    }
   ],
   "source": [
    "print(env.action_space.n)\n",
    "print(env.observation_space)"
   ]
  },
  {
   "cell_type": "markdown",
   "metadata": {},
   "source": [
    "## Build QLearning to play the taxi game\n",
    "\n",
    "$$\n",
    "Q^{new}(s, a) = Q^{old}(s, a) + \\alpha \\left(R(s, a) + \\gamma \\max_{a'}Q^{old}(s', a') - Q^{old}(s, a)\\right)\n",
    "$$\n",
    "where $s \\rightarrow s'$ via action $a$"
   ]
  },
  {
   "cell_type": "code",
   "execution_count": 75,
   "metadata": {
    "ExecuteTime": {
     "end_time": "2021-07-13T05:59:02.698138Z",
     "start_time": "2021-07-13T05:59:02.672788Z"
    }
   },
   "outputs": [],
   "source": [
    "import numpy as np\n",
    "class QTable:\n",
    "    def __init__(self, qtable: np.ndarray):\n",
    "        self.qtable = qtable # qtable[s, a]\n",
    "        print(self.qtable.shape)\n",
    "      \n",
    "    def update_table(self, s:int, a:int, next_state: int, reward: float, gamma: float, alpha: float):\n",
    "        \"\"\"update q table to a better value\"\"\"\n",
    "        q = self.qtable\n",
    "        q[s, a] = q[s, a] + alpha* (reward + gamma* np.max(q[next_state]) - q[s, a])\n",
    "    \n",
    "    def best_action(self, s: int) -> int:\n",
    "        return np.argmax(self.qtable[s])\n",
    "    \n",
    "    def learn(self, env, epsilon: float, gamma: float, alpha: float, n: int):\n",
    "        \"\"\"Play the game many time and iteratively update QTable\"\"\"\n",
    "        for i in range(n):\n",
    "            if i%1000 == 0:\n",
    "                print(i)\n",
    "            env.reset()\n",
    "            n_turn = 0\n",
    "            should_quit = False\n",
    "            score = 0\n",
    "            while not should_quit:\n",
    "                s = env.env.s\n",
    "                if np.random.rand() > epsilon:\n",
    "                    a = env.action_space.sample()\n",
    "                else:\n",
    "                    a = self.best_action(s)\n",
    "                observation, reward, done, info = env.step(a) # take a random action    \n",
    "                new_state = env.env.s\n",
    "                score += reward\n",
    "                self.update_table(s, a, new_state, reward, gamma, alpha)\n",
    "                n_turn += 1\n",
    "                should_quit = n_turn > 100 or done\n",
    "            #if done:\n",
    "            #    print(score)\n",
    "            #if i%100 ==0:\n",
    "            #    print(np.average(self.qtable))\n",
    "    \n",
    "    @classmethod\n",
    "    def for_env(self, env):\n",
    "        n_state = env.action_space.n\n",
    "        n_action = env.observation_space.n\n",
    "        return QTable(np.zeros((n_action, n_state, )))"
   ]
  },
  {
   "cell_type": "code",
   "execution_count": 76,
   "metadata": {
    "ExecuteTime": {
     "end_time": "2021-07-13T05:59:03.284081Z",
     "start_time": "2021-07-13T05:59:03.264766Z"
    }
   },
   "outputs": [],
   "source": [
    "env=gym.make('Taxi-v3')"
   ]
  },
  {
   "cell_type": "code",
   "execution_count": 83,
   "metadata": {
    "ExecuteTime": {
     "end_time": "2021-07-13T06:01:34.336769Z",
     "start_time": "2021-07-13T06:01:26.368488Z"
    }
   },
   "outputs": [
    {
     "name": "stdout",
     "output_type": "stream",
     "text": [
      "(500, 6)\n",
      "0\n",
      "1000\n",
      "2000\n",
      "3000\n",
      "4000\n",
      "5000\n",
      "6000\n",
      "7000\n",
      "8000\n",
      "9000\n"
     ]
    }
   ],
   "source": [
    "qtable = QTable.for_env(env)\n",
    "qtable.learn(env, epsilon=0.5, gamma=0.5, alpha=0.1, n=10000 )"
   ]
  },
  {
   "cell_type": "code",
   "execution_count": null,
   "metadata": {
    "ExecuteTime": {
     "start_time": "2021-07-13T06:01:27.040Z"
    }
   },
   "outputs": [
    {
     "name": "stdout",
     "output_type": "stream",
     "text": [
      "+---------+\n",
      "|R: | : :G|\n",
      "| : | : : |\n",
      "|\u001b[42m_\u001b[0m: : : : |\n",
      "| | : | : |\n",
      "|\u001b[35mY\u001b[0m| : |B: |\n",
      "+---------+\n",
      "  (West)\n",
      "-9 -1\n",
      "318 -1 False {'prob': 1.0}\n"
     ]
    }
   ],
   "source": [
    "def animate(qtable, env):\n",
    "    env.reset()\n",
    "    score = 0\n",
    "    done = False\n",
    "    while not done:\n",
    "        env.render()\n",
    "        s = env.env.s\n",
    "        action = qtable.best_action(s)\n",
    "        observation, reward, done, info = env.step(action) # take a random action    \n",
    "        score += reward\n",
    "        print(score, reward)\n",
    "        print(observation, reward, done, info)\n",
    "        time.sleep(0.5)\n",
    "        clear_output(True)\n",
    "    env.render()\n",
    "    print(score)\n",
    "for _ in range(1000):\n",
    "    animate(qtable, env)"
   ]
  },
  {
   "cell_type": "code",
   "execution_count": 66,
   "metadata": {
    "ExecuteTime": {
     "end_time": "2021-07-13T05:55:12.961223Z",
     "start_time": "2021-07-13T05:55:12.948737Z"
    }
   },
   "outputs": [
    {
     "data": {
      "text/plain": [
       "0.7592612739233925"
      ]
     },
     "execution_count": 66,
     "metadata": {},
     "output_type": "execute_result"
    }
   ],
   "source": [
    "np.random.rand()"
   ]
  },
  {
   "cell_type": "code",
   "execution_count": null,
   "metadata": {},
   "outputs": [],
   "source": []
  }
 ],
 "metadata": {
  "hide_input": false,
  "kernelspec": {
   "display_name": "Python 3",
   "language": "python",
   "name": "python3"
  },
  "language_info": {
   "codemirror_mode": {
    "name": "ipython",
    "version": 3
   },
   "file_extension": ".py",
   "mimetype": "text/x-python",
   "name": "python",
   "nbconvert_exporter": "python",
   "pygments_lexer": "ipython3",
   "version": "3.7.3"
  },
  "toc": {
   "base_numbering": 1,
   "colors": {
    "hover_highlight": "#DAA520",
    "running_highlight": "#FF0000",
    "selected_highlight": "#FFD700"
   },
   "moveMenuLeft": true,
   "nav_menu": {},
   "navigate_menu": true,
   "number_sections": true,
   "sideBar": true,
   "skip_h1_title": false,
   "threshold": 4,
   "title_cell": "Table of Contents",
   "title_sidebar": "Contents",
   "toc_cell": false,
   "toc_position": {},
   "toc_section_display": true,
   "toc_window_display": false
  }
 },
 "nbformat": 4,
 "nbformat_minor": 4
}
