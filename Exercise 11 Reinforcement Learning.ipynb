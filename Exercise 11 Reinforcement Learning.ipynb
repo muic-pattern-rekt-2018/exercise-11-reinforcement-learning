{
 "cells": [
  {
   "cell_type": "markdown",
   "metadata": {},
   "source": [
    "# Reinforcement Learning"
   ]
  },
  {
   "cell_type": "markdown",
   "metadata": {},
   "source": [
    "## The Game \n",
    "What is a state and what is an action?"
   ]
  },
  {
   "cell_type": "code",
   "execution_count": 5,
   "metadata": {
    "ExecuteTime": {
     "end_time": "2021-07-13T04:47:33.414105Z",
     "start_time": "2021-07-13T04:47:18.216322Z"
    }
   },
   "outputs": [
    {
     "name": "stdout",
     "output_type": "stream",
     "text": [
      "+---------+\n",
      "|\u001b[35mR\u001b[0m: | : :\u001b[34;1mG\u001b[0m|\n",
      "| : | : : |\n",
      "| : : : : |\n",
      "| | : | : |\n",
      "|Y| :\u001b[43m \u001b[0m|B: |\n",
      "+---------+\n",
      "  (Pickup)\n",
      "-147\n",
      "444\n",
      "Discrete(6)\n",
      "Discrete(500)\n"
     ]
    }
   ],
   "source": [
    "import gym\n",
    "from IPython.display import clear_output\n",
    "import time\n",
    "\n",
    "env=gym.make('Taxi-v3')\n",
    "env.reset()\n",
    "score = 0\n",
    "for _ in range(30):\n",
    "    env.render()\n",
    "    action = env.action_space.sample()\n",
    "    print(action)\n",
    "    observation, reward, done, info = env.step(action) # take a random action    \n",
    "    score += reward\n",
    "    print(score, reward)\n",
    "    print(observation, reward, done, info)\n",
    "    time.sleep(0.5)\n",
    "    clear_output(True)\n",
    "env.render()\n",
    "print(score)\n",
    "env.close()\n",
    "print(env.env.s) # how to get current state\n",
    "print(env.action_space)\n",
    "print(env.observation_space)\n",
    "#env.reward"
   ]
  },
  {
   "cell_type": "markdown",
   "metadata": {},
   "source": [
    "## QTable? \n",
    "\n",
    "### What does each element represent?"
   ]
  },
  {
   "cell_type": "code",
   "execution_count": null,
   "metadata": {},
   "outputs": [],
   "source": []
  },
  {
   "cell_type": "markdown",
   "metadata": {},
   "source": [
    "### What is the dimension of QTable?"
   ]
  },
  {
   "cell_type": "code",
   "execution_count": null,
   "metadata": {},
   "outputs": [],
   "source": []
  },
  {
   "cell_type": "markdown",
   "metadata": {
    "ExecuteTime": {
     "end_time": "2020-07-12T19:06:37.798725Z",
     "start_time": "2020-07-12T19:06:37.795333Z"
    }
   },
   "source": [
    "### If we are at state $s$ how do we pick the next best action"
   ]
  },
  {
   "cell_type": "code",
   "execution_count": null,
   "metadata": {},
   "outputs": [],
   "source": []
  },
  {
   "cell_type": "markdown",
   "metadata": {},
   "source": [
    "Closing Note: QTable doesn't really have to be a table. You can think about it as a parametrized function. The discrete one is much easier to implement."
   ]
  },
  {
   "cell_type": "markdown",
   "metadata": {},
   "source": [
    "## Q Learning"
   ]
  },
  {
   "cell_type": "markdown",
   "metadata": {
    "ExecuteTime": {
     "end_time": "2020-07-12T19:16:30.523802Z",
     "start_time": "2020-07-12T19:16:30.521800Z"
    }
   },
   "source": [
    "### Write down the update rule"
   ]
  },
  {
   "cell_type": "code",
   "execution_count": null,
   "metadata": {},
   "outputs": [],
   "source": []
  },
  {
   "cell_type": "markdown",
   "metadata": {},
   "source": [
    "### What is $\\alpha$?\n",
    "What happen when alpha is 1 and what happen when alpha is 0?"
   ]
  },
  {
   "cell_type": "code",
   "execution_count": null,
   "metadata": {},
   "outputs": [],
   "source": []
  },
  {
   "cell_type": "markdown",
   "metadata": {},
   "source": [
    "### What is gamma?"
   ]
  },
  {
   "cell_type": "code",
   "execution_count": null,
   "metadata": {},
   "outputs": [],
   "source": []
  },
  {
   "cell_type": "markdown",
   "metadata": {},
   "source": [
    "### What value does the update rule converge to?"
   ]
  },
  {
   "cell_type": "code",
   "execution_count": null,
   "metadata": {},
   "outputs": [],
   "source": []
  },
  {
   "cell_type": "markdown",
   "metadata": {},
   "source": [
    "### When learning do we always want to use the best action?"
   ]
  },
  {
   "cell_type": "code",
   "execution_count": null,
   "metadata": {},
   "outputs": [],
   "source": []
  },
  {
   "cell_type": "markdown",
   "metadata": {
    "ExecuteTime": {
     "end_time": "2020-07-12T19:38:01.150021Z",
     "start_time": "2020-07-12T19:38:01.145507Z"
    }
   },
   "source": [
    "### What is $\\epsilon$?"
   ]
  },
  {
   "cell_type": "code",
   "execution_count": null,
   "metadata": {},
   "outputs": [],
   "source": []
  },
  {
   "cell_type": "markdown",
   "metadata": {},
   "source": [
    "### When we evaluate the QTable do we want to always use the best action?"
   ]
  },
  {
   "cell_type": "code",
   "execution_count": 6,
   "metadata": {
    "ExecuteTime": {
     "end_time": "2021-07-13T04:56:12.108679Z",
     "start_time": "2021-07-13T04:56:12.103999Z"
    }
   },
   "outputs": [
    {
     "name": "stdout",
     "output_type": "stream",
     "text": [
      "6\n",
      "Discrete(500)\n"
     ]
    }
   ],
   "source": [
    "print(env.action_space.n)\n",
    "print(env.observation_space)"
   ]
  },
  {
   "cell_type": "markdown",
   "metadata": {},
   "source": [
    "## Build QLearning to play the taxi game"
   ]
  },
  {
   "cell_type": "code",
   "execution_count": 8,
   "metadata": {
    "ExecuteTime": {
     "end_time": "2021-07-13T04:57:01.118744Z",
     "start_time": "2021-07-13T04:57:01.109827Z"
    }
   },
   "outputs": [],
   "source": [
    "import numpy as np\n",
    "class QTable:\n",
    "    def __init__(self, qtable: np.ndarray):\n",
    "        self.qtable = qtable\n",
    "      \n",
    "    def update_table(self, s:int, a:int, reward: float, gamma: float, alpha: float):\n",
    "        \"\"\"update q table to a better value\"\"\"\n",
    "        pass\n",
    "    \n",
    "    def best_action(self, s: int) -> int:\n",
    "        \"\"\"find the best action for the given state\"\"\"\n",
    "    \n",
    "    def learn(self, env):\n",
    "        \"\"\"Iteratively update QTable\"\"\"\n",
    "        pass\n",
    "    \n",
    "    @classmethod\n",
    "    def for_env(self, env):\n",
    "        n_state = env.action_space.n\n",
    "        n_action = env.observation_space.n\n",
    "        return QTable(np.zeros(n_state, n_action))"
   ]
  },
  {
   "cell_type": "code",
   "execution_count": null,
   "metadata": {},
   "outputs": [],
   "source": []
  }
 ],
 "metadata": {
  "hide_input": false,
  "kernelspec": {
   "display_name": "Python 3",
   "language": "python",
   "name": "python3"
  },
  "language_info": {
   "codemirror_mode": {
    "name": "ipython",
    "version": 3
   },
   "file_extension": ".py",
   "mimetype": "text/x-python",
   "name": "python",
   "nbconvert_exporter": "python",
   "pygments_lexer": "ipython3",
   "version": "3.7.3"
  },
  "toc": {
   "base_numbering": 1,
   "colors": {
    "hover_highlight": "#DAA520",
    "running_highlight": "#FF0000",
    "selected_highlight": "#FFD700"
   },
   "moveMenuLeft": true,
   "nav_menu": {},
   "navigate_menu": true,
   "number_sections": true,
   "sideBar": true,
   "skip_h1_title": false,
   "threshold": 4,
   "title_cell": "Table of Contents",
   "title_sidebar": "Contents",
   "toc_cell": false,
   "toc_position": {},
   "toc_section_display": true,
   "toc_window_display": false
  }
 },
 "nbformat": 4,
 "nbformat_minor": 4
}
