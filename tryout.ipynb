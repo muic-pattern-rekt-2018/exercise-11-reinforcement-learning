{
 "cells": [
  {
   "cell_type": "code",
   "execution_count": 82,
   "metadata": {
    "ExecuteTime": {
     "end_time": "2020-07-12T18:49:36.601487Z",
     "start_time": "2020-07-12T18:49:36.591710Z"
    }
   },
   "outputs": [],
   "source": [
    "import gym\n",
    "from gym import envs\n",
    "env = v"
   ]
  },
  {
   "cell_type": "code",
   "execution_count": 83,
   "metadata": {
    "ExecuteTime": {
     "end_time": "2020-07-12T18:49:36.949545Z",
     "start_time": "2020-07-12T18:49:36.944524Z"
    }
   },
   "outputs": [
    {
     "data": {
      "text/plain": [
       "332"
      ]
     },
     "execution_count": 83,
     "metadata": {},
     "output_type": "execute_result"
    }
   ],
   "source": [
    "env.reset()"
   ]
  },
  {
   "cell_type": "code",
   "execution_count": 84,
   "metadata": {
    "ExecuteTime": {
     "end_time": "2020-07-12T18:49:37.313484Z",
     "start_time": "2020-07-12T18:49:37.304485Z"
    }
   },
   "outputs": [
    {
     "name": "stdout",
     "output_type": "stream",
     "text": [
      "+---------+\n",
      "|R: | : :G|\n",
      "| : | : : |\n",
      "|\u001b[43m \u001b[0m: : : : |\n",
      "| | : | : |\n",
      "|\u001b[35mY\u001b[0m| : |\u001b[34;1mB\u001b[0m: |\n",
      "+---------+\n",
      "\n",
      "114 -1 False {'prob': 1.0}\n",
      "+---------+\n",
      "|R: | : :G|\n",
      "|\u001b[43m \u001b[0m: | : : |\n",
      "| : : : : |\n",
      "| | : | : |\n",
      "|\u001b[35mY\u001b[0m| : |\u001b[34;1mB\u001b[0m: |\n",
      "+---------+\n",
      "  (North)\n",
      "114 -1 False {'prob': 1.0}\n",
      "+---------+\n",
      "|R: | : :G|\n",
      "|\u001b[43m \u001b[0m: | : : |\n",
      "| : : : : |\n",
      "| | : | : |\n",
      "|\u001b[35mY\u001b[0m| : |\u001b[34;1mB\u001b[0m: |\n",
      "+---------+\n",
      "  (West)\n",
      "214 -1 False {'prob': 1.0}\n",
      "+---------+\n",
      "|R: | : :G|\n",
      "| : | : : |\n",
      "|\u001b[43m \u001b[0m: : : : |\n",
      "| | : | : |\n",
      "|\u001b[35mY\u001b[0m| : |\u001b[34;1mB\u001b[0m: |\n",
      "+---------+\n",
      "  (South)\n",
      "114 -1 False {'prob': 1.0}\n",
      "+---------+\n",
      "|R: | : :G|\n",
      "|\u001b[43m \u001b[0m: | : : |\n",
      "| : : : : |\n",
      "| | : | : |\n",
      "|\u001b[35mY\u001b[0m| : |\u001b[34;1mB\u001b[0m: |\n",
      "+---------+\n",
      "  (North)\n",
      "114 -10 False {'prob': 1.0}\n",
      "+---------+\n",
      "|R: | : :G|\n",
      "|\u001b[43m \u001b[0m: | : : |\n",
      "| : : : : |\n",
      "| | : | : |\n",
      "|\u001b[35mY\u001b[0m| : |\u001b[34;1mB\u001b[0m: |\n",
      "+---------+\n",
      "  (Pickup)\n",
      "14 -1 False {'prob': 1.0}\n",
      "+---------+\n",
      "|\u001b[43mR\u001b[0m: | : :G|\n",
      "| : | : : |\n",
      "| : : : : |\n",
      "| | : | : |\n",
      "|\u001b[35mY\u001b[0m| : |\u001b[34;1mB\u001b[0m: |\n",
      "+---------+\n",
      "  (North)\n",
      "14 -10 False {'prob': 1.0}\n",
      "+---------+\n",
      "|\u001b[43mR\u001b[0m: | : :G|\n",
      "| : | : : |\n",
      "| : : : : |\n",
      "| | : | : |\n",
      "|\u001b[35mY\u001b[0m| : |\u001b[34;1mB\u001b[0m: |\n",
      "+---------+\n",
      "  (Dropoff)\n",
      "14 -10 False {'prob': 1.0}\n",
      "+---------+\n",
      "|\u001b[43mR\u001b[0m: | : :G|\n",
      "| : | : : |\n",
      "| : : : : |\n",
      "| | : | : |\n",
      "|\u001b[35mY\u001b[0m| : |\u001b[34;1mB\u001b[0m: |\n",
      "+---------+\n",
      "  (Pickup)\n",
      "34 -1 False {'prob': 1.0}\n",
      "+---------+\n",
      "|R:\u001b[43m \u001b[0m| : :G|\n",
      "| : | : : |\n",
      "| : : : : |\n",
      "| | : | : |\n",
      "|\u001b[35mY\u001b[0m| : |\u001b[34;1mB\u001b[0m: |\n",
      "+---------+\n",
      "  (East)\n",
      "34 -10 False {'prob': 1.0}\n",
      "hello\n",
      "+---------+\n",
      "|R:\u001b[43m \u001b[0m| : :G|\n",
      "| : | : : |\n",
      "| : : : : |\n",
      "| | : | : |\n",
      "|\u001b[35mY\u001b[0m| : |\u001b[34;1mB\u001b[0m: |\n",
      "+---------+\n",
      "  (North)\n"
     ]
    },
    {
     "data": {
      "text/plain": [
       "34"
      ]
     },
     "execution_count": 84,
     "metadata": {},
     "output_type": "execute_result"
    }
   ],
   "source": [
    "env.reset()\n",
    "for _ in range(10):\n",
    "    env.render()\n",
    "    observation, reward, done, info = env.step(env.action_space.sample()) # take a random action\n",
    "    \n",
    "    print(observation, reward, done, info)\n",
    "env.close()\n",
    "print('hello')\n",
    "env.step(env.action_space.sample())\n",
    "env.render()\n",
    "env.env.s\n",
    "#env.reward"
   ]
  },
  {
   "cell_type": "code",
   "execution_count": 85,
   "metadata": {
    "ExecuteTime": {
     "end_time": "2020-07-12T18:49:37.747493Z",
     "start_time": "2020-07-12T18:49:37.743491Z"
    }
   },
   "outputs": [
    {
     "data": {
      "text/plain": [
       "500"
      ]
     },
     "execution_count": 85,
     "metadata": {},
     "output_type": "execute_result"
    }
   ],
   "source": [
    "env.observation_space.n"
   ]
  },
  {
   "cell_type": "code",
   "execution_count": 86,
   "metadata": {
    "ExecuteTime": {
     "end_time": "2020-07-12T18:49:40.660332Z",
     "start_time": "2020-07-12T18:49:40.655842Z"
    }
   },
   "outputs": [],
   "source": [
    "import numpy as np"
   ]
  },
  {
   "cell_type": "code",
   "execution_count": 87,
   "metadata": {
    "ExecuteTime": {
     "end_time": "2020-07-12T18:49:42.135762Z",
     "start_time": "2020-07-12T18:49:42.127309Z"
    }
   },
   "outputs": [],
   "source": [
    "from typing import Dict\n",
    "class QTable:\n",
    "    def __init__(self, env):\n",
    "        self.n_observations = env.observation_space.n\n",
    "        self.n_actions = env.action_space.n\n",
    "        self.table = np.zeros((self.n_observations, self.n_actions))\n",
    "        \n",
    "    def get_action(self, state, epsilon=0.0):\n",
    "        if np.random.rand() < epsilon:\n",
    "            return np.random.randint(0, self.n_actions)\n",
    "        else:\n",
    "            rewards = self.table[state]\n",
    "            best_action = np.argmax(rewards)\n",
    "            return best_action\n",
    "    \n",
    "    def learn(self, prev_state, next_state, action, reward, alpha=0.1, gamma=0.5):\n",
    "        q = self.table\n",
    "        ps = prev_state\n",
    "        nx = next_state\n",
    "        a = action\n",
    "        q[ps, a] = q[ps, a] + alpha*(reward + gamma*np.max(q[ns]) - q[ps, a])\n"
   ]
  },
  {
   "cell_type": "code",
   "execution_count": 88,
   "metadata": {
    "ExecuteTime": {
     "end_time": "2020-07-12T18:50:49.340406Z",
     "start_time": "2020-07-12T18:49:43.047406Z"
    }
   },
   "outputs": [
    {
     "name": "stdout",
     "output_type": "stream",
     "text": [
      "0 -668\n",
      "1000 -142\n",
      "2000 -179\n",
      "3000 -47\n",
      "4000 5\n",
      "5000 -72\n",
      "6000 -69\n",
      "7000 -8\n",
      "8000 -77\n",
      "9000 -85\n",
      "10000 -53\n",
      "11000 -30\n",
      "12000 -92\n",
      "13000 -36\n",
      "14000 -13\n",
      "15000 -92\n",
      "16000 -80\n",
      "17000 -37\n",
      "18000 -43\n",
      "19000 -11\n",
      "20000 -61\n",
      "21000 -32\n",
      "22000 -10\n",
      "23000 -80\n",
      "24000 -24\n",
      "25000 -36\n",
      "26000 -30\n",
      "27000 -38\n",
      "28000 -18\n",
      "29000 -70\n",
      "30000 -46\n",
      "31000 -21\n",
      "32000 -37\n",
      "33000 -18\n",
      "34000 -4\n",
      "35000 -28\n",
      "36000 -48\n",
      "37000 -41\n",
      "38000 -57\n",
      "39000 -53\n",
      "40000 -26\n",
      "41000 -78\n",
      "42000 -44\n",
      "43000 -91\n",
      "44000 -31\n",
      "45000 -9\n",
      "46000 -15\n",
      "47000 -7\n",
      "48000 -18\n",
      "49000 -12\n",
      "50000 -31\n",
      "51000 -41\n",
      "52000 -88\n",
      "53000 -1\n",
      "54000 11\n",
      "55000 8\n",
      "56000 -19\n",
      "57000 -79\n",
      "58000 -104\n",
      "59000 -45\n",
      "60000 -178\n",
      "61000 -65\n",
      "62000 8\n",
      "63000 -90\n",
      "64000 -77\n",
      "65000 -40\n",
      "66000 -3\n",
      "67000 -39\n",
      "68000 -39\n",
      "69000 -39\n",
      "70000 -47\n",
      "71000 -73\n",
      "72000 -41\n",
      "73000 8\n",
      "74000 -62\n",
      "75000 -24\n",
      "76000 -53\n",
      "77000 -71\n",
      "78000 6\n",
      "79000 -52\n",
      "80000 -93\n",
      "81000 -16\n",
      "82000 -62\n",
      "83000 -4\n",
      "84000 7\n",
      "85000 -82\n",
      "86000 -43\n",
      "87000 -27\n",
      "88000 -61\n",
      "89000 -30\n",
      "90000 -85\n",
      "91000 -10\n",
      "92000 -74\n",
      "93000 -58\n",
      "94000 -111\n",
      "95000 -54\n",
      "96000 -56\n",
      "97000 -50\n",
      "98000 -37\n",
      "99000 -139\n"
     ]
    }
   ],
   "source": [
    "np.random.seed(333)\n",
    "env = gym.make('Taxi-v3')\n",
    "q_table = QTable(env)\n",
    "alpha = 0.1\n",
    "gamma = 0.5\n",
    "epsilon = 0.5\n",
    "for episode in range(100000):\n",
    "    env.reset()\n",
    "    total_score = 0\n",
    "    for turn in range(200):\n",
    "        ps = env.env.s\n",
    "        action = q_table.get_action(ps, epsilon=epsilon)\n",
    "        ns, reward, done, info = env.step(action)\n",
    "        total_score += reward\n",
    "        q_table.learn(ps, ns, action, reward, alpha=alpha, gamma=gamma)\n",
    "        if done:\n",
    "            break\n",
    "    if episode%1000 == 0:\n",
    "        print(episode, total_score)"
   ]
  },
  {
   "cell_type": "code",
   "execution_count": 67,
   "metadata": {
    "ExecuteTime": {
     "end_time": "2020-07-12T17:16:25.921598Z",
     "start_time": "2020-07-12T17:16:25.853035Z"
    }
   },
   "outputs": [
    {
     "data": {
      "text/plain": [
       "<matplotlib.image.AxesImage at 0x26b7fe82588>"
      ]
     },
     "execution_count": 67,
     "metadata": {},
     "output_type": "execute_result"
    },
    {
     "data": {
      "image/png": "[encoded data removed]",
      "text/plain": [
       "<Figure size 288x1152 with 1 Axes>"
      ]
     },
     "metadata": {
      "needs_background": "light"
     },
     "output_type": "display_data"
    }
   ],
   "source": [
    "from matplotlib import pyplot as plt\n",
    "plt.matshow(q_table.table)"
   ]
  },
  {
   "cell_type": "code",
   "execution_count": 91,
   "metadata": {
    "ExecuteTime": {
     "end_time": "2020-07-12T19:33:51.360576Z",
     "start_time": "2020-07-12T19:33:45.329738Z"
    }
   },
   "outputs": [
    {
     "name": "stdout",
     "output_type": "stream",
     "text": [
      "+---------+\n",
      "|\u001b[35m\u001b[34;1m\u001b[43mR\u001b[0m\u001b[0m\u001b[0m: | : :G|\n",
      "| : | : : |\n",
      "| : : : : |\n",
      "| | : | : |\n",
      "|Y| : |B: |\n",
      "+---------+\n",
      "  (Dropoff)\n",
      "11 5 16\n"
     ]
    }
   ],
   "source": [
    "from IPython.display import clear_output\n",
    "import time\n",
    "\n",
    "env.reset()\n",
    "env.render()\n",
    "time.sleep(0.5)\n",
    "clear_output(True)\n",
    "for i in range(200):\n",
    "    ps = env.env.s\n",
    "    action = q_table.get_action(ps, epsilon=0.0)\n",
    "    o, r, d, _ = env.step(action)\n",
    "    env.render()\n",
    "    print(i, action, ps)\n",
    "    if d:\n",
    "        break\n",
    "    time.sleep(0.5)\n",
    "    clear_output(True)"
   ]
  },
  {
   "cell_type": "code",
   "execution_count": null,
   "metadata": {},
   "outputs": [],
   "source": []
  }
 ],
 "metadata": {
  "kernelspec": {
   "display_name": "Python 3",
   "language": "python",
   "name": "python3"
  },
  "language_info": {
   "codemirror_mode": {
    "name": "ipython",
    "version": 3
   },
   "file_extension": ".py",
   "mimetype": "text/x-python",
   "name": "python",
   "nbconvert_exporter": "python",
   "pygments_lexer": "ipython3",
   "version": "3.7.5"
  },
  "toc": {
   "base_numbering": 1,
   "nav_menu": {},
   "number_sections": true,
   "sideBar": true,
   "skip_h1_title": false,
   "title_cell": "Table of Contents",
   "title_sidebar": "Contents",
   "toc_cell": false,
   "toc_position": {},
   "toc_section_display": true,
   "toc_window_display": true
  }
 },
 "nbformat": 4,
 "nbformat_minor": 4
}
