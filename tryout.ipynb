{
 "cells": [
  {
   "cell_type": "code",
   "execution_count": 1,
   "metadata": {
    "ExecuteTime": {
     "end_time": "2021-07-13T05:18:24.757349Z",
     "start_time": "2021-07-13T05:18:24.350540Z"
    }
   },
   "outputs": [],
   "source": [
    "import gym\n",
    "from gym import envs"
   ]
  },
  {
   "cell_type": "code",
   "execution_count": 2,
   "metadata": {
    "ExecuteTime": {
     "end_time": "2021-07-13T05:18:24.761165Z",
     "start_time": "2021-07-13T05:18:24.759046Z"
    }
   },
   "outputs": [],
   "source": [
    "import numpy as np\n",
    "import time\n",
    "from IPython.display import clear_output"
   ]
  },
  {
   "cell_type": "code",
   "execution_count": 3,
   "metadata": {
    "ExecuteTime": {
     "end_time": "2021-07-13T05:18:25.291357Z",
     "start_time": "2021-07-13T05:18:25.250786Z"
    }
   },
   "outputs": [],
   "source": [
    "from typing import Dict\n",
    "class QTable:\n",
    "    def __init__(self, env):\n",
    "        self.n_observations = env.observation_space.n\n",
    "        self.n_actions = env.action_space.n\n",
    "        self.table = np.zeros((self.n_observations, self.n_actions))\n",
    "        \n",
    "    def get_action(self, state, epsilon=0.0):\n",
    "        if np.random.rand() < epsilon:\n",
    "            return np.random.randint(0, self.n_actions)\n",
    "        else:\n",
    "            rewards = self.table[state]\n",
    "            best_action = np.argmax(rewards)\n",
    "            return best_action\n",
    "    \n",
    "    def update_table(self, prev_state, next_state, action, reward, alpha=0.1, gamma=0.5):\n",
    "        q = self.table\n",
    "        ps = prev_state\n",
    "        ns = next_state\n",
    "        a = action\n",
    "        q[ps, a] = q[ps, a] + alpha*(reward + gamma*np.max(q[ns]) - q[ps, a])\n",
    "\n",
    "    def evaluate(self, env, n):\n",
    "        scores = []\n",
    "        for i_game in range(n):\n",
    "            env.reset()\n",
    "            total_score = 0\n",
    "            for turn in range(200):\n",
    "                ps = env.env.s\n",
    "                action = self.get_action(ps, 0.0)\n",
    "                ns, reward, done, info = env.step(action)\n",
    "                total_score += reward\n",
    "                if done:\n",
    "                    break\n",
    "            scores.append(total_score)\n",
    "        return np.average(scores)\n",
    "                \n",
    "    def animate(self, env, delay=0.5):\n",
    "        env.reset()\n",
    "        env.render()\n",
    "        time.sleep(delay)\n",
    "        for turn in range(200):\n",
    "            clear_output(True)\n",
    "            ps = env.env.s\n",
    "            action = self.get_action(ps, 0.0)\n",
    "            ns, reward, done, info = env.step(action)\n",
    "            env.render()\n",
    "            print(turn, action)\n",
    "            if not done or turn == 200:\n",
    "                time.sleep(delay)\n",
    "            else:\n",
    "                break\n",
    "        \n",
    "    @classmethod\n",
    "    def learn_from_env(cls, env, n, alpha, gamma, epsilon):\n",
    "        table = QTable(env)\n",
    "        for episode in range(n):\n",
    "            env.reset()\n",
    "            total_score = 0\n",
    "            for turn in range(200):\n",
    "                ps = env.env.s\n",
    "                action = table.get_action(ps, epsilon=epsilon)\n",
    "                ns, reward, done, info = env.step(action)\n",
    "                total_score += reward\n",
    "                table.update_table(ps, ns, action, reward, alpha=alpha, gamma=gamma)\n",
    "                if done:\n",
    "                    break\n",
    "            if episode%1000 == 0:\n",
    "                print(episode, total_score)\n",
    "        return table"
   ]
  },
  {
   "cell_type": "code",
   "execution_count": 4,
   "metadata": {
    "ExecuteTime": {
     "end_time": "2021-07-13T05:19:07.485737Z",
     "start_time": "2021-07-13T05:18:32.160395Z"
    }
   },
   "outputs": [
    {
     "name": "stdout",
     "output_type": "stream",
     "text": [
      "0 -533\n",
      "1000 0\n",
      "2000 -6\n",
      "3000 -16\n",
      "4000 1\n",
      "5000 7\n",
      "6000 -31\n",
      "7000 -6\n",
      "8000 -24\n",
      "9000 -7\n",
      "10000 9\n",
      "11000 -29\n",
      "12000 3\n",
      "13000 8\n",
      "14000 -10\n",
      "15000 -4\n",
      "16000 5\n",
      "17000 13\n",
      "18000 4\n",
      "19000 3\n",
      "20000 -21\n",
      "21000 -3\n",
      "22000 -2\n",
      "23000 -3\n",
      "24000 -25\n",
      "25000 -5\n",
      "26000 -2\n",
      "27000 -8\n",
      "28000 3\n",
      "29000 -5\n",
      "30000 7\n",
      "31000 5\n",
      "32000 12\n",
      "33000 -6\n",
      "34000 1\n",
      "35000 8\n",
      "36000 -1\n",
      "37000 -13\n",
      "38000 -2\n",
      "39000 0\n",
      "40000 -17\n",
      "41000 -4\n",
      "42000 -12\n",
      "43000 1\n",
      "44000 -14\n",
      "45000 7\n",
      "46000 -19\n",
      "47000 -13\n",
      "48000 -3\n",
      "49000 -24\n",
      "50000 -37\n",
      "51000 0\n",
      "52000 2\n",
      "53000 9\n",
      "54000 -10\n",
      "55000 -5\n",
      "56000 -5\n",
      "57000 -5\n",
      "58000 0\n",
      "59000 -12\n",
      "60000 -2\n",
      "61000 -7\n",
      "62000 8\n",
      "63000 -16\n",
      "64000 5\n",
      "65000 8\n",
      "66000 3\n",
      "67000 2\n",
      "68000 4\n",
      "69000 -5\n",
      "70000 -11\n",
      "71000 -16\n",
      "72000 1\n",
      "73000 4\n",
      "74000 -8\n",
      "75000 10\n",
      "76000 8\n",
      "77000 -15\n",
      "78000 -22\n",
      "79000 9\n",
      "80000 -6\n",
      "81000 -18\n",
      "82000 -9\n",
      "83000 9\n",
      "84000 10\n",
      "85000 -18\n",
      "86000 -14\n",
      "87000 11\n",
      "88000 -11\n",
      "89000 -12\n",
      "90000 4\n",
      "91000 8\n",
      "92000 9\n",
      "93000 6\n",
      "94000 14\n",
      "95000 -17\n",
      "96000 -25\n",
      "97000 -7\n",
      "98000 4\n",
      "99000 3\n"
     ]
    }
   ],
   "source": [
    "np.random.seed(333)\n",
    "env = gym.make('Taxi-v3')\n",
    "table = QTable.learn_from_env(env, n=100000, alpha=0.1, gamma=0.5, epsilon=0.2)\n",
    "\n"
   ]
  },
  {
   "cell_type": "code",
   "execution_count": 5,
   "metadata": {
    "ExecuteTime": {
     "end_time": "2021-07-13T05:41:02.055021Z",
     "start_time": "2021-07-13T05:19:10.072449Z"
    }
   },
   "outputs": [
    {
     "name": "stdout",
     "output_type": "stream",
     "text": [
      "+---------+\n",
      "|R: | : :G|\n",
      "| : | : : |\n",
      "| : : : : |\n",
      "| | : | : |\n",
      "|Y| : |\u001b[35m\u001b[34;1m\u001b[43mB\u001b[0m\u001b[0m\u001b[0m: |\n",
      "+---------+\n",
      "  (Dropoff)\n",
      "14 5\n"
     ]
    }
   ],
   "source": [
    "for i in range(200):\n",
    "    clear_output(True)\n",
    "    table.animate(env)"
   ]
  },
  {
   "cell_type": "code",
   "execution_count": 12,
   "metadata": {
    "ExecuteTime": {
     "end_time": "2020-07-13T06:57:14.183453Z",
     "start_time": "2020-07-13T06:57:14.028453Z"
    }
   },
   "outputs": [
    {
     "data": {
      "text/plain": [
       "7.875"
      ]
     },
     "execution_count": 12,
     "metadata": {},
     "output_type": "execute_result"
    }
   ],
   "source": [
    "table.evaluate(env, 1000)"
   ]
  },
  {
   "cell_type": "code",
   "execution_count": null,
   "metadata": {},
   "outputs": [],
   "source": []
  }
 ],
 "metadata": {
  "hide_input": false,
  "kernelspec": {
   "display_name": "Python 3",
   "language": "python",
   "name": "python3"
  },
  "language_info": {
   "codemirror_mode": {
    "name": "ipython",
    "version": 3
   },
   "file_extension": ".py",
   "mimetype": "text/x-python",
   "name": "python",
   "nbconvert_exporter": "python",
   "pygments_lexer": "ipython3",
   "version": "3.7.3"
  },
  "toc": {
   "base_numbering": 1,
   "colors": {
    "hover_highlight": "#DAA520",
    "running_highlight": "#FF0000",
    "selected_highlight": "#FFD700"
   },
   "moveMenuLeft": true,
   "nav_menu": {},
   "navigate_menu": true,
   "number_sections": true,
   "sideBar": true,
   "skip_h1_title": false,
   "threshold": 4,
   "title_cell": "Table of Contents",
   "title_sidebar": "Contents",
   "toc_cell": false,
   "toc_position": {},
   "toc_section_display": true,
   "toc_window_display": true
  }
 },
 "nbformat": 4,
 "nbformat_minor": 4
}
